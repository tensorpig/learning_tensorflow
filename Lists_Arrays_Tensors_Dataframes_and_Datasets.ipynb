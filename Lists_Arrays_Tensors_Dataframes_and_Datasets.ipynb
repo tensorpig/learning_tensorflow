{
  "nbformat": 4,
  "nbformat_minor": 0,
  "metadata": {
    "colab": {
      "name": "Lists, Arrays, Tensors, Dataframes, and Datasets",
      "provenance": [],
      "collapsed_sections": [],
      "authorship_tag": "ABX9TyN/z4IgFPsTeIpooeiPU+hi",
      "include_colab_link": true
    },
    "kernelspec": {
      "name": "python3",
      "display_name": "Python 3"
    }
  },
  "cells": [
    {
      "cell_type": "markdown",
      "metadata": {
        "id": "view-in-github",
        "colab_type": "text"
      },
      "source": [
        "<a href=\"https://colab.research.google.com/github/tensorpig/learning_tensorflow/blob/master/Lists_Arrays_Tensors_Dataframes_and_Datasets.ipynb\" target=\"_parent\"><img src=\"https://colab.research.google.com/assets/colab-badge.svg\" alt=\"Open In Colab\"/></a>"
      ]
    },
    {
      "cell_type": "markdown",
      "metadata": {
        "id": "vq9xCbCKU74y",
        "colab_type": "text"
      },
      "source": [
        "Let's pretend we have a simple regression like problem. We start out with 3 features describing a robotic spider we're building. For example: number of legs (feature 1), weight (feature 2), and version number (feature 3). Say that we so far built three prototype robots, so have 3 values for each feature. "
      ]
    },
    {
      "cell_type": "code",
      "metadata": {
        "id": "RTsI4YLuT9rQ",
        "colab_type": "code",
        "colab": {
          "base_uri": "https://localhost:8080/",
          "height": 34
        },
        "outputId": "b1d13b21-068a-4d90-9666-eb8cef528f97"
      },
      "source": [
        "feature1 = [1,2,3]\n",
        "feature2 = [4.0,5.0,6.0]\n",
        "feature3 = ['100','101','102']\n",
        "print(type(feature1))"
      ],
      "execution_count": 1,
      "outputs": [
        {
          "output_type": "stream",
          "text": [
            "<class 'list'>\n"
          ],
          "name": "stdout"
        }
      ]
    },
    {
      "cell_type": "markdown",
      "metadata": {
        "id": "RY27QLAxV6HK",
        "colab_type": "text"
      },
      "source": [
        "We'll look at the various different data structures you will probably run into when doing ML/AI in pyhton and tensorflow. Combining the features into matrices etc. Starting from basic python lists and progressing up to keras Datasets which you will typically feed into your neural network.\n",
        "\n",
        "First up: the basic python LIST"
      ]
    },
    {
      "cell_type": "code",
      "metadata": {
        "id": "A9YCFqIcURVi",
        "colab_type": "code",
        "colab": {
          "base_uri": "https://localhost:8080/",
          "height": 170
        },
        "outputId": "5a4c1b36-3295-47fd-e722-2eb919363ad7"
      },
      "source": [
        "list2d = [feature1, feature2, feature3] \n",
        "print(type(list2d))\n",
        "print(list2d)\n",
        "print('({},{})'.format(len(list2d),len(list2d[0]))) #nr of rows and cols\n",
        "print(list2d[0]) #first row\n",
        "print([row[0] for row in list2d]) #first col\n",
        "print(list2d[0][0]) # value at 0,0\n",
        "print([[row[i] for row in list2d] for i in range(len(list2d[0]))]) # transpose to make more like excel sheet"
      ],
      "execution_count": 58,
      "outputs": [
        {
          "output_type": "stream",
          "text": [
            "<class 'list'>\n",
            "[[1, 2, 3], [4.0, 5.0, 6.0], ['100', '101', '102']]\n",
            "(3,3)\n",
            "[1, 2, 3]\n",
            "[1, 4.0, '100']\n",
            "1\n",
            "[[1, 4.0, '100'], [2, 5.0, '101'], [3, 6.0, '102']]\n",
            "<class 'tuple'>\n",
            "([1, 2, 3], [4.0, 5.0, 6.0], ['100', '101', '102'])\n"
          ],
          "name": "stdout"
        }
      ]
    },
    {
      "cell_type": "markdown",
      "metadata": {
        "id": "Mm_xYpC-UWJ7",
        "colab_type": "text"
      },
      "source": [
        "A python list is a collection of any data types. The items in a list can be lists again, and there are no requirements for the items in a list to be of the same type, or of the same length.\n",
        "\n",
        "There is also the Tuple, which has () around the feautes instead of []. A Tuple works hte same, but once creatd, cannot be changed.\n",
        "\n",
        "Next up the Numpy ARRAY"
      ]
    },
    {
      "cell_type": "code",
      "metadata": {
        "id": "pAcQ8owJUaiG",
        "colab_type": "code",
        "colab": {
          "base_uri": "https://localhost:8080/",
          "height": 204
        },
        "outputId": "7a546d88-595a-4cca-9859-90e63e458d6c"
      },
      "source": [
        "import numpy as np\n",
        "array2d = np.array([feature1, feature2, feature3], dtype=object)\n",
        "print(type(array2d))\n",
        "print(array2d)\n",
        "print(array2d.shape) #nr of rows and cols\n",
        "print(array2d[0,:]) #first element/row = array, could also be just array2d[0]\n",
        "print(array2d[:,0]) #first column, or actually first element from each 1d array in the 2d array\n",
        "print(array2d[0,0]) # value at 0,0\n",
        "print(array2d.transpose()) #more like excel sheet"
      ],
      "execution_count": 3,
      "outputs": [
        {
          "output_type": "stream",
          "text": [
            "<class 'numpy.ndarray'>\n",
            "[[1 2 3]\n",
            " [4.0 5.0 6.0]\n",
            " ['100' '101' '102']]\n",
            "(3, 3)\n",
            "[1 2 3]\n",
            "[1 4.0 '100']\n",
            "1\n",
            "[[1 4.0 '100']\n",
            " [2 5.0 '101']\n",
            " [3 6.0 '102']]\n"
          ],
          "name": "stdout"
        }
      ]
    },
    {
      "cell_type": "markdown",
      "metadata": {
        "id": "lU79BtIsUcQz",
        "colab_type": "text"
      },
      "source": [
        "A numpy array expects all items to be of the same type. If the dtype=object is not used above, all of the values will be converted to strings as this is the minimum type that can hold all values. A numpy array can handle features of different length, but then each element in the array will be of type 'list', so no direct indexing like you would expect from a matrix.\n",
        "\n",
        "Next up the Pandas DATAFRAME"
      ]
    },
    {
      "cell_type": "code",
      "metadata": {
        "id": "c_GTwMtGUfdK",
        "colab_type": "code",
        "colab": {
          "base_uri": "https://localhost:8080/",
          "height": 170
        },
        "outputId": "ca6fc3f2-bbdf-4e5c-a22e-ce1d206bdd76"
      },
      "source": [
        "import pandas as pd\n",
        "dataframe = pd.DataFrame()\n",
        "dataframe['feature1'] = feature1\n",
        "dataframe['feature2'] = feature2\n",
        "dataframe['feature3'] = feature3\n",
        "print(type(dataframe))\n",
        "print(dataframe)\n",
        "print(dataframe.shape)\n",
        "print(dataframe.iloc[0].tolist()) # first row, without .tolist() it also shows the column headers as row headers. You can also use loc[0], where 0 is now value in the index column (same as row number here)\n",
        "print(dataframe['feature1'].tolist()) #first column, without .tolist() it also shows the index. You can also use .iloc[:,0]\n",
        "print(dataframe.iloc[0,0]) #value at 0,0"
      ],
      "execution_count": 4,
      "outputs": [
        {
          "output_type": "stream",
          "text": [
            "<class 'pandas.core.frame.DataFrame'>\n",
            "   feature1  feature2 feature3\n",
            "0         1       4.0      100\n",
            "1         2       5.0      101\n",
            "2         3       6.0      102\n",
            "(3, 3)\n",
            "[1, 4.0, '100']\n",
            "[1, 2, 3]\n",
            "1\n"
          ],
          "name": "stdout"
        }
      ]
    },
    {
      "cell_type": "markdown",
      "metadata": {
        "id": "jFN7pPxmUhZh",
        "colab_type": "text"
      },
      "source": [
        "A Pandas dataframe is basically an excel sheet. It can handle features with different datatypes, but not different lengths of feature arrays.\n",
        "\n",
        "Next up TENSORs"
      ]
    },
    {
      "cell_type": "code",
      "metadata": {
        "id": "MF5N8S3QUiPZ",
        "colab_type": "code",
        "colab": {
          "base_uri": "https://localhost:8080/",
          "height": 238
        },
        "outputId": "4540a43d-e9ad-4989-86a7-73a5fdf0dee6"
      },
      "source": [
        "import tensorflow as tf\n",
        "feature3int = [int(x) for x in feature3 ] # map string values to numerical representation (in this case the string is a number so easy)\n",
        "tensorRank2 = tf.constant([feature1, feature2, feature3int], dtype=float)\n",
        "print(type(tensorRank2))\n",
        "print(tensorRank2)\n",
        "print(tensorRank2.shape)\n",
        "print(tensorRank2[0,:].numpy()) #first row, without .numpy() a tensor object is returned. Could also use just [0]\n",
        "print(tensorRank2[:,0].numpy()) #first col\n",
        "print(tensorRank2[0,0].numpy()) # value at 0,0\n",
        "print(tf.transpose(tensorRank2)) # more like excel sheet"
      ],
      "execution_count": 5,
      "outputs": [
        {
          "output_type": "stream",
          "text": [
            "<class 'tensorflow.python.framework.ops.EagerTensor'>\n",
            "tf.Tensor(\n",
            "[[  1.   2.   3.]\n",
            " [  4.   5.   6.]\n",
            " [100. 101. 102.]], shape=(3, 3), dtype=float32)\n",
            "(3, 3)\n",
            "[1. 2. 3.]\n",
            "[  1.   4. 100.]\n",
            "1.0\n",
            "tf.Tensor(\n",
            "[[  1.   4. 100.]\n",
            " [  2.   5. 101.]\n",
            " [  3.   6. 102.]], shape=(3, 3), dtype=float32)\n"
          ],
          "name": "stdout"
        }
      ]
    },
    {
      "cell_type": "markdown",
      "metadata": {
        "id": "BGx2Sl-wUmWC",
        "colab_type": "text"
      },
      "source": [
        "Tensors are n-dimensional generalizations of matrices. Vectors are tensors, and can be seen as 1-dimensional matrices. All are represented using n-dimensional arrays with a uniform type, and features with uniform length. I had to convert feature3 list to int, although I could also have converted feature1 and fature2 lists to strings.\n",
        "\n",
        "Next up DATASETs"
      ]
    },
    {
      "cell_type": "code",
      "metadata": {
        "id": "pio3BvloCGSx",
        "colab_type": "code",
        "colab": {
          "base_uri": "https://localhost:8080/",
          "height": 119
        },
        "outputId": "e9f27cc6-b2be-459a-e13a-d444a0912d6a"
      },
      "source": [
        "feature1f = [float(x) for x in feature1 ] # map string values to numerical representation\n",
        "feature3f = [float(x) for x in feature3 ] # map string values to numerical representation\n",
        "dataset = tf.data.Dataset.from_tensor_slices([feature1f, feature2, feature3f])\n",
        "print(type(dataset))\n",
        "print(dataset.element_spec)\n",
        "print(dataset)\n",
        "print(list(dataset.as_numpy_iterator()))\n",
        "print(list(dataset.take(1).as_numpy_iterator())[0]) #first \"row\"\n",
        "print(list(dataset.take(1).as_numpy_iterator())[0][0]) # value at 0,0\n"
      ],
      "execution_count": 57,
      "outputs": [
        {
          "output_type": "stream",
          "text": [
            "<class 'tensorflow.python.data.ops.dataset_ops.TensorSliceDataset'>\n",
            "TensorSpec(shape=(3,), dtype=tf.float32, name=None)\n",
            "<TensorSliceDataset shapes: (3,), types: tf.float32>\n",
            "[array([1., 2., 3.], dtype=float32), array([4., 5., 6.], dtype=float32), array([100., 101., 102.], dtype=float32)]\n",
            "[1. 2. 3.]\n",
            "1.0\n"
          ],
          "name": "stdout"
        }
      ]
    },
    {
      "cell_type": "markdown",
      "metadata": {
        "id": "9znu97SGC_B_",
        "colab_type": "text"
      },
      "source": [
        "A Dataset is a sequence of elements, each element consisting of one or more components. In this case, each element of the Dataset is a TensorSliceDataset of shape (3,) which, when converted to a list, is shown to wrap around an array of 3 floats as expected.\n",
        "\n",
        "A Dataset is aimed at creating data pipelines, which get data from somewhere, process and transform it (typically in smaller batches), and then output it to a neural network (or somewhere else). A main goal of such a piepline is to avoid getting (all) the data in memory and enable large data sets to be handled in smaller peices. As such, getting values for specific elements in the dataset is not what Dataset are built for (and it shows).  "
      ]
    },
    {
      "cell_type": "code",
      "metadata": {
        "id": "wmz8wFc4KpfO",
        "colab_type": "code",
        "colab": {
          "base_uri": "https://localhost:8080/",
          "height": 105
        },
        "outputId": "63a32dc4-7cd9-4786-9f15-bb0ff3c797e4"
      },
      "source": [
        "datasett = tf.data.Dataset.from_tensor_slices((feature1, feature2, feature3))\n",
        "print(type(datasett))\n",
        "print(datasett.element_spec)\n",
        "print(datasett)\n",
        "print(list(datasett.as_numpy_iterator()))"
      ],
      "execution_count": 61,
      "outputs": [
        {
          "output_type": "stream",
          "text": [
            "<class 'tensorflow.python.data.ops.dataset_ops.TensorSliceDataset'>\n",
            "(TensorSpec(shape=(), dtype=tf.int32, name=None), TensorSpec(shape=(), dtype=tf.float32, name=None), TensorSpec(shape=(), dtype=tf.string, name=None), TensorSpec(shape=(), dtype=tf.int32, name=None))\n",
            "<TensorSliceDataset shapes: ((), (), (), ()), types: (tf.int32, tf.float32, tf.string, tf.int32)>\n",
            "[(1, 4.0, b'100', -1), (2, 5.0, b'101', -2), (3, 6.0, b'102', -3)]\n"
          ],
          "name": "stdout"
        }
      ]
    },
    {
      "cell_type": "markdown",
      "metadata": {
        "id": "5I3rF17HOue2",
        "colab_type": "text"
      },
      "source": [
        "If you create a Dataset from a tuple of arrays, instead of an array of arrays, you can see each element is now a tuple of 3 TensorSpec of different type and shape () which can be seen wrap around a tuple for transposed feature values. \n",
        "\n",
        "This shows that from_tensor_slices() \"slices\" the tensors along the first dimension"
      ]
    },
    {
      "cell_type": "code",
      "metadata": {
        "id": "AAphs4JVNijH",
        "colab_type": "code",
        "colab": {}
      },
      "source": [
        ""
      ],
      "execution_count": null,
      "outputs": []
    }
  ]
}